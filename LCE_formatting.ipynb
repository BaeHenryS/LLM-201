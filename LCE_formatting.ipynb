{
 "cells": [
  {
   "cell_type": "code",
   "execution_count": 1,
   "metadata": {},
   "outputs": [],
   "source": [
    "import csv\n",
    "import random\n",
    "import json\n",
    "import os\n",
    "import re\n",
    "import openai\n",
    "from dotenv import load_dotenv\n",
    "import time\n",
    "import sys"
   ]
  },
  {
   "cell_type": "markdown",
   "metadata": {},
   "source": [
    "## Example formatting: \n",
    "\n",
    "### original question: \n",
    "\n",
    "The integral is of the form $I(\\epsilon)=\\int_0^{18} \\frac{1}{\\epsilon+P(x)} d x$ where $P(x)$ is a polynomial. The integrand is maximum at $x=0$, with a height of $\\frac{1}{\\epsilon}$.\n",
    "\n",
    "For small $\\epsilon$ : We define the width as the point where the integrand becomes half of its maximum height. This corresponds to solving $P(x)=\\epsilon$. Applying dominant balance, considering the term in $P(x)$ with the smallest degree, the width is approximated as $\\left(\\frac{1}{8.0 * \\epsilon}\\right)^{1 / 5.0}$. Therefore, the approximation for the integral for small $\\epsilon$ is $I(\\epsilon)=\\frac{0.659753955386447}{\\epsilon^{0.8}}$.\n",
    "\n",
    "For large $\\epsilon$ : Similarly, we define the width based on the term with the largest degree. The width is approximated as $\\left(\\frac{1}{6.0 * \\epsilon}\\right)^{1 / 19.0}$. Therefore, the approximation for the integral for large $\\epsilon$ is $I(\\epsilon)=\\frac{0.910006870081735}{\\epsilon^{0.947368421052632}}$."
   ]
  },
  {
   "cell_type": "markdown",
   "metadata": {},
   "source": [
    "### LCE formatted:\n",
    "\n",
    "Let's rewrite the solution in the specified format and execute the code to calculate a specific number for the execution part:\n",
    "\n",
    "$<\\mid$ assistant $|><|$ text $\\mid>$ To analyze the integral $I(\\epsilon)=\\int_0^{18} \\frac{1}{\\epsilon+P(x)} dx$ for varying $\\epsilon$, we divide our approach into two scenarios: small $\\epsilon$ and large $\\epsilon$. Initially, we identify the integrand's maximum height as $\\frac{1}{\\epsilon}$ at $x=0$. For small $\\epsilon$, the width at which the integrand is half its maximum is found by solving $P(x) = \\epsilon$, leading to an approximation for the width as $\\left(\\frac{1}{8.0 * \\epsilon}\\right)^{1 / 5.0}$ and the integral approximation as $I(\\epsilon)=\\frac{0.659753955386447}{\\epsilon^{0.8}}$.\n",
    "\n",
    "In contrast, for large $\\epsilon$, we estimate the width considering the largest degree term in $P(x)$, resulting in $\\left(\\frac{1}{6.0 * \\epsilon}\\right)^{1 / 19.0}$. This gives the approximation for the integral as $I(\\epsilon)=\\frac{0.910006870081735}{\\epsilon^{0.947368421052632}}$. Let's perform the calculations for a specific $\\epsilon$ value.<|endofblock $\\mid>$\n",
    "\n",
    "<|code $\\mid>$ \n",
    "```python\n",
    "from sympy import symbols, solve\n",
    "\n",
    "# Define the variable for epsilon\n",
    "epsilon = symbols('epsilon')\n",
    "\n",
    "# Define the expressions for integral approximations for small and large epsilon\n",
    "integral_approx_small_expr = 0.659753955386447 / epsilon**0.8\n",
    "integral_approx_large_expr = 0.910006870081735 / epsilon**0.947368421052632\n",
    "\n",
    "# Calculate the approximations for a specific epsilon value, e.g., epsilon = 0.01 for small and epsilon = 10 for large\n",
    "epsilon_small_value = 0.01  # Small epsilon value\n",
    "epsilon_large_value = 10    # Large epsilon value\n",
    "\n",
    "integral_approx_small = integral_approx_small_expr.subs(epsilon, epsilon_small_value)\n",
    "integral_approx_large = integral_approx_large_expr.subs(epsilon, epsilon_large_value)\n",
    "\n",
    "(integral_approx_small, integral_approx_large)\n",
    "```\n",
    "<|endofblock $\\mid>$\n",
    "\n",
    "Now, let's execute the code to calculate the specific numbers for the integral approximations based on the provided $\\epsilon$ values.\n",
    "\n",
    "$<\\mid$ execution $|>$ For $\\epsilon = 0.01$ (small $\\epsilon$), the integral approximation is approximately $26.27$. For $\\epsilon = 10$ (large $\\epsilon$), the integral approximation is approximately $0.103$. <|endofblock $\\mid>$\n",
    "\n",
    "$<\\mid$ text $\\mid>$ Therefore, with $\\epsilon = 0.01$, a smaller value of $\\epsilon$ significantly increases the integral's value, indicating a steep scaling as $\\epsilon^{-0.8}$. Conversely, with $\\epsilon = 10$, the integral's value slightly decreases, following a scaling of $\\epsilon^{-0.947368421052632}$, showing a less pronounced but still noticeable sensitivity to changes in $\\epsilon$. This computational analysis illuminates the integral's behavior across different $\\epsilon$ regimes, providing valuable insights into its sensitivity to $\\epsilon$ variations.<|endofblock $|><|$ endofmessage $\\mid>$\n"
   ]
  },
  {
   "cell_type": "markdown",
   "metadata": {},
   "source": [
    "## Methods\n",
    "\n",
    "This format transformation is leveraged by prompting GPT-4 with a proper example. To batch transform these solutions we need functions to do OpenAI API calls.\n",
    "\n",
    "### What we need: \n",
    "- systems message\n",
    "- put the generated solutions in a CSV\n",
    "- standard prompting message in another column of CSV (transform solution to LCE format etc.)\n",
    "\n",
    "### Information we want to provide in either system or prompt message:\n",
    "- #### describe the conceptual idea of LCE: \n",
    "\n",
    "First, we obtain solutions for the GSM8K and MATH training sets from the GPT-4. The data can be expressed in (solution, question) pairs as $\\left\\{\\left(y_i, x_i\\right)\\right\\}_{i=1}^N$. Each solution $y_i$ contains three kinds of components: natural language (text) for reasoning $\\mathbf{L}$, code for execution $\\mathbf{C}$, and execution results $\\mathbf{E}$, where $\\mathbf{L}$ is the natural language reasoning step, $\\mathbf{C}$ is the Python code the model generates when its reasoning leads to some complex computation that it needs code to solve, and $\\mathbf{E}$ is the output of the code. $\\mathbf{E}$ is assessed by the model so a new $\\mathbf{L}$ can be generated. All three kinds of components are closely chained together in the solutions, with each component influencing the component that comes after. An integral solution $y_i$ can be expressed as $(\\mathbf{L}, \\mathbf{C}, \\mathbf{E}, \\mathbf{L}, \\mathbf{C}, \\mathbf{E}, \\ldots)$.\n",
    "- #### provide an example: \n",
    "\n",
    "$<\\mid$ assistant $|><|$ text $\\mid>$ To solve this problem, let's set $x$ as the amount of money the group of friends started with.\n",
    "1. In the first city, they spent half of what they had $\\left(\\frac{x}{2}\\right)$ plus an additional $\\$ 50$.\n",
    "2. After this, they are left with $x-\\left(\\frac{x}{2}+50\\right)$.\n",
    "3. In the second city, they spend half of what's left plus an additional $\\$ 20$.\n",
    "4. Finally, they are left with $\\$ 40$.\n",
    "\n",
    "The equation can be set up as follows:\n",
    "$$\n",
    "x-\\left(\\frac{x}{2}+50\\right)-\\left(\\frac{x-\\left(\\frac{x}{2}+50\\right)}{2}+20\\right)=40\n",
    "$$\n",
    "\n",
    "Let's go ahead and solve this equation using code.<|endofblock $\\mid>$\n",
    "<|code $\\mid>$ from sympy import symbols, Eq, solve\n",
    "\\# Define the variable and equation\n",
    "$\\mathrm{x}=$ symbols(' $\\mathrm{x}$ ')\n",
    "\\# Equation based on the problem description\n",
    "equation $=\\operatorname{Eq}(\\mathrm{x}-(\\mathrm{x} / 2+50)-((\\mathrm{x}-(\\mathrm{x} / 2+50)) / 2+20), 40)$\n",
    "\\# Solve the equation\n",
    "initial_amount $=$ solve(equation, $x$ )\n",
    "initial_amount $[0]<\\mid$ endofblock $\\mid>$\n",
    "$<\\mid$ execution $|>340<|$ endofblock $\\mid>$\n",
    "$<\\mid$ text $\\mid>$ Thus, the group of friends started with $\\$ 340$ before the road trip.<|endofblock $|><|$ endofmessage $\\mid>$"
   ]
  },
  {
   "cell_type": "markdown",
   "metadata": {},
   "source": []
  }
 ],
 "metadata": {
  "kernelspec": {
   "display_name": "llm201",
   "language": "python",
   "name": "python3"
  },
  "language_info": {
   "codemirror_mode": {
    "name": "ipython",
    "version": 3
   },
   "file_extension": ".py",
   "mimetype": "text/x-python",
   "name": "python",
   "nbconvert_exporter": "python",
   "pygments_lexer": "ipython3",
   "version": "3.9.18"
  },
  "orig_nbformat": 4
 },
 "nbformat": 4,
 "nbformat_minor": 2
}
