{
 "cells": [
  {
   "cell_type": "markdown",
   "metadata": {},
   "source": [
    "### Part 1: read in data and convert to jsonl"
   ]
  },
  {
   "cell_type": "code",
   "execution_count": 18,
   "metadata": {},
   "outputs": [],
   "source": [
    "import json\n",
    "import os\n",
    "import re\n",
    "import openai\n",
    "from dotenv import load_dotenv\n",
    "import time"
   ]
  },
  {
   "cell_type": "markdown",
   "metadata": {},
   "source": [
    "The code snippet below is only for Math Dataset."
   ]
  },
  {
   "cell_type": "code",
   "execution_count": 5,
   "metadata": {},
   "outputs": [],
   "source": [
    "def concatenate_json_to_jsonl(folder_path, output_file):\n",
    "    # List all json files in the folder\n",
    "    json_files = [f for f in os.listdir(folder_path) if f.endswith('.json')]\n",
    "\n",
    "    with open(output_file, 'w') as outfile:\n",
    "        for file_name in json_files:\n",
    "            file_path = os.path.join(folder_path, file_name)\n",
    "\n",
    "            # Read the content of each json file\n",
    "            with open(file_path, 'r') as infile:\n",
    "                data = json.load(infile)\n",
    "                # Write each dictionary as a single line in the jsonl file\n",
    "                json.dump(data, outfile)\n",
    "                outfile.write('\\n')\n",
    "\n",
    "# Usage\n",
    "folder_path = 'MATH/test/algebra/'  # Replace with the path to your folder\n",
    "output_file = 'algebra.jsonl'         # Name of the output .jsonl file\n",
    "concatenate_json_to_jsonl(folder_path, output_file)"
   ]
  },
  {
   "cell_type": "markdown",
   "metadata": {},
   "source": [
    "### Part 2: openAI setup and example test (taken from website)"
   ]
  },
  {
   "cell_type": "code",
   "execution_count": 7,
   "metadata": {},
   "outputs": [
    {
     "name": "stdout",
     "output_type": "stream",
     "text": [
      "ChatCompletionMessage(content='In the realm of code, a concept profound,\\nWhere elegance and logic doth resound,\\nLies recursion, a mystical enchantment,\\nA dance of functions, a loop in ascent.\\n\\nLike a mirror reflecting its own reflection,\\nRecursion calls itself without hesitation,\\nA nesting of steps, in which we embark,\\nTo solve tasks grand, and choices mark.\\n\\nPicture a tale of infinite unfolding,\\nA story rewriting, constantly molding,\\nWhere a hero within calls out once more,\\nSeeking the answers, a quest to restore.\\n\\nA function, a hero, armoured with might,\\nSteps into darkness, with code as his light,\\nHe encounters a problem, complex and vast,\\nIn search of a solution, his journey does cast.\\n\\nYet in this journey, a riddle he finds,\\nTo solve it, he muses, he must rewind,\\nBack to the beginning, where his tale did start,\\nTo challenge the problem with all of his heart.\\n\\nWith each step retraced, the hero does see,\\nA smaller version of what used to be,\\nA smaller problem, but one of the same,\\nTo conquer this battle, he must play the game.\\n\\nRecursion in programming, a looping affair,\\nWhere functions call themselves, bold and aware,\\nEach call chipping away at the task at hand,\\nTill the smallest problem, they firmly command.\\n\\nAnd so the hero, with infinite might,\\nRepeats and repeats, with all of his sight,\\nTill all problems are solved, like a puzzle complete,\\nWith recursion, a tool both clever and neat.\\n\\nBut beware the trap, the infinite loop,\\nA misstep in code, a mistake to recoup,\\nFor recursion, though mighty, has its own snare,\\nTo break free from, the right base case you must declare.\\n\\nOh recursion, enchanting in its power,\\nBrings beauty and elegance in every hour,\\nA concept complex, yet gracefully shown,\\nIn loops that spiral, in steps swiftly grown.\\n\\nSo let us embrace this recursive embrace,\\nThe stories it weaves, its magical trace,\\nFor in the realm of code, as we delight,\\nRecursion in programming, a symphony of light.', role='assistant', function_call=None, tool_calls=None)\n"
     ]
    }
   ],
   "source": [
    "\n",
    "\n",
    "load_dotenv()\n",
    "\n",
    "openai.api_key = os.getenv('OPENAI_API_KEY')\n",
    "client = openai.Client()\n",
    "completion = client.chat.completions.create(\n",
    "  model=\"gpt-3.5-turbo\",\n",
    "  messages=[\n",
    "    {\"role\": \"system\", \"content\": \"You are a poetic assistant, skilled in explaining complex programming concepts with creative flair.\"},\n",
    "    {\"role\": \"user\", \"content\": \"Compose a poem that explains the concept of recursion in programming.\"}\n",
    "  ]\n",
    ")\n",
    "\n",
    "print(completion.choices[0].message)\n"
   ]
  },
  {
   "cell_type": "markdown",
   "metadata": {},
   "source": [
    "### Part 3: test GPT3.5 on the algebra dataset"
   ]
  },
  {
   "cell_type": "code",
   "execution_count": 12,
   "metadata": {},
   "outputs": [
    {
     "name": "stdout",
     "output_type": "stream",
     "text": [
      "Problem: How many vertical asymptotes does the graph of $y=\\frac{2}{x^2+x-6}$ have?\n",
      "AI Solution: To find the vertical asymptotes of the function \\( y = \\frac{2}{x^2+x-6} \\), we need to determine the values of \\( x \\) that make the denominator equal to zero. Factorizing the denominator, we have:\n",
      "\n",
      "\\[ x^2 + x - 6 = (x+3)(x-2) \\]\n",
      "\n",
      "Setting the denominator equal to zero gives us the values of \\( x \\) where the function has vertical asymptotes:\n",
      "\n",
      "\\[ x+3=0 \\quad \\text{and} \\quad x-2=0 \\]\n",
      "\n",
      "So the function has two vertical asymptotes: \\( x = -3 \\) and \\( x = 2 \\). Therefore, the graph of the function has $\\boxed{2}$ vertical asymptotes.\n",
      "Actual Solution: The denominator of the rational function factors into $x^2+x-6=(x-2)(x+3)$. Since the numerator is always nonzero, there is a vertical asymptote whenever the denominator is $0$, which occurs for $x = 2$ and $x = -3$.  Therefore, the graph has $\\boxed{2}$ vertical asymptotes.\n",
      "--------------------------------------------------\n"
     ]
    }
   ],
   "source": [
    "def test_math_problems(n):\n",
    "    for i in range(1, n+1):\n",
    "        file_path = f'./MATH/test/algebra/{i}.json'\n",
    "        if not os.path.isfile(file_path):\n",
    "            print(f\"File {file_path} not found.\")\n",
    "            continue\n",
    "\n",
    "        with open(file_path, 'r') as f:\n",
    "            data = json.load(f)\n",
    "            problem = data['problem']\n",
    "            solution = data['solution']\n",
    "\n",
    "\n",
    "\n",
    "            response = client.chat.completions.create(\n",
    "                model=\"gpt-3.5-turbo-1106\",\n",
    "                messages=[\n",
    "                    {\"role\": \"system\", \"content\": \"You are a helpful assistant, skilled in solving common algebraic problems.\"},\n",
    "                    {\"role\": \"user\", \"content\": f\"Solve this math problem and return the answer (a number) in latex box format, e.g. $\\boxed$: {problem}\"},\n",
    "                ],\n",
    "                temperature=1,\n",
    "                max_tokens=256,\n",
    "                top_p=1,\n",
    "                frequency_penalty=0,\n",
    "                presence_penalty=0\n",
    "            )\n",
    "            ai_solution = response.choices[0].message.content\n",
    "            print(f\"Problem: {problem}\")\n",
    "            print(\"--------------------------------------------------\")\n",
    "            print(f\"AI Solution: {ai_solution}\")\n",
    "            print(f\"Actual Solution: {solution}\")\n",
    "            print(\"--------------------------------------------------\")\n",
    "    return ai_solution, solution\n",
    "\n",
    "ai_solution, target_solution = test_math_problems(1)  # Change the number as per your requirement"
   ]
  },
  {
   "cell_type": "code",
   "execution_count": 10,
   "metadata": {},
   "outputs": [],
   "source": [
    "# function for extracting boxed value\n",
    "def extract_number_from_latex(paragraph):\n",
    "    \"\"\"\n",
    "    Extracts a number from a LaTeX paragraph enclosed in the '$\\boxed{}$' pattern.\n",
    "    \n",
    "    Parameters:\n",
    "        paragraph (str): The LaTeX paragraph containing the number enclosed in the '$\\boxed{}$' pattern.\n",
    "        \n",
    "    Returns:\n",
    "        int or None: The extracted number if found, otherwise None.\n",
    "    \"\"\"\n",
    "    # Regular expression to find the $\\boxed{x}$ pattern\n",
    "    # This assumes 'x' is an integer; modify the regex if 'x' can be a different type of number\n",
    "    match = re.search(r'\\$\\\\boxed\\{(\\d+)\\}', paragraph)\n",
    "    if match:\n",
    "        return int(match.group(1))\n",
    "    else:\n",
    "        return None"
   ]
  },
  {
   "cell_type": "code",
   "execution_count": 15,
   "metadata": {},
   "outputs": [
    {
     "data": {
      "text/plain": [
       "2"
      ]
     },
     "execution_count": 15,
     "metadata": {},
     "output_type": "execute_result"
    }
   ],
   "source": [
    "extract_number_from_latex(target_solution)"
   ]
  },
  {
   "cell_type": "code",
   "execution_count": 16,
   "metadata": {},
   "outputs": [],
   "source": [
    "# function for comparing values\n",
    "def compared_boxed_val(paragraph1, paragraph2):\n",
    "    num1 = extract_number_from_latex(paragraph1)\n",
    "    num2 = extract_number_from_latex(paragraph2)\n",
    "    return 1*(num1 == num2)"
   ]
  },
  {
   "cell_type": "code",
   "execution_count": 17,
   "metadata": {},
   "outputs": [
    {
     "data": {
      "text/plain": [
       "1"
      ]
     },
     "execution_count": 17,
     "metadata": {},
     "output_type": "execute_result"
    }
   ],
   "source": [
    "compared_boxed_val(target_solution, ai_solution)"
   ]
  },
  {
   "cell_type": "markdown",
   "metadata": {},
   "source": [
    "### Part 4: produce test scores in batch"
   ]
  },
  {
   "cell_type": "code",
   "execution_count": 26,
   "metadata": {},
   "outputs": [],
   "source": [
    "def test_math_problems_batch(jsonl_path, model, num_lines_to_parse,output_jsonl_path):\n",
    "    \"\"\"\n",
    "    Test a batch of math problems using the given model.\n",
    "\n",
    "    Parameters:\n",
    "    - jsonl_path (str): The path to the JSONL file containing the math problems.\n",
    "    - model (str): The name of the model to use for solving the problems.\n",
    "    - num_lines_to_parse (int): The number of lines to parse from the JSONL file.\n",
    "    - output_jsonl_path (str): The path to the output JSONL file to store the results.\n",
    "\n",
    "    Returns:\n",
    "    - test_score (int): The total score obtained from solving the math problems.\n",
    "    - average_score (float): The average score obtained from solving the math problems.\n",
    "    \"\"\"\n",
    "    test_score = 0\n",
    "    total_count = 0\n",
    "    with open(jsonl_path, 'r') as file:\n",
    "        for i, line in enumerate(file):\n",
    "            # Find which line we are at with output_jsonl_path:\n",
    "            checkpoint = 0\n",
    "            with open(output_jsonl_path, 'r') as outfile:\n",
    "                for j, line in enumerate(outfile):\n",
    "                    checkpoint += 1\n",
    "            if i < num_lines_to_parse and i >= checkpoint:\n",
    "                json_data = json.loads(line)\n",
    "                problem = json_data['problem']\n",
    "                solution = json_data['solution']\n",
    "                response = client.chat.completions.create(\n",
    "                    model=model,\n",
    "                    messages=[\n",
    "                        {\"role\": \"system\", \"content\": \"You are an assistant skilled in solving common algebraic problems. Solve this math problem given by the user and return the answer (a number) in latex box format, e.g. $\\boxed$:\"},\n",
    "                        {\"role\": \"user\", \"content\": f\" {problem}\"},\n",
    "                    ],\n",
    "                    temperature=1,\n",
    "                    max_tokens=256,\n",
    "                    top_p=1,\n",
    "                    frequency_penalty=0,\n",
    "                    presence_penalty=0\n",
    "                )\n",
    "                time.sleep(5)\n",
    "                ai_solution = response.choices[0].message.content\n",
    "                score = compared_boxed_val(solution, ai_solution)\n",
    "                test_score += score\n",
    "                total_count += 1\n",
    "                result = {\n",
    "                    \"problem\": problem,\n",
    "                    \"target_solution\": solution,\n",
    "                    \"gpt_solution\": ai_solution,\n",
    "                    \"score\": score\n",
    "                }\n",
    "                with open(output_jsonl_path, 'a') as outfile:\n",
    "                    json.dump(result, outfile)\n",
    "                    outfile.write('\\n')\n",
    "            else:\n",
    "                break\n",
    "    return test_score, test_score/total_count"
   ]
  },
  {
   "cell_type": "code",
   "execution_count": 27,
   "metadata": {},
   "outputs": [
    {
     "data": {
      "text/plain": [
       "(4, 0.8)"
      ]
     },
     "execution_count": 27,
     "metadata": {},
     "output_type": "execute_result"
    }
   ],
   "source": [
    "test_math_problems_batch('algebra.jsonl', \"gpt-3.5-turbo-1106\", 5, 'algebra_test_sol.jsonl')"
   ]
  },
  {
   "cell_type": "code",
   "execution_count": null,
   "metadata": {},
   "outputs": [],
   "source": []
  }
 ],
 "metadata": {
  "kernelspec": {
   "display_name": "Python 3 (ipykernel)",
   "language": "python",
   "name": "python3"
  },
  "language_info": {
   "codemirror_mode": {
    "name": "ipython",
    "version": 3
   },
   "file_extension": ".py",
   "mimetype": "text/x-python",
   "name": "python",
   "nbconvert_exporter": "python",
   "pygments_lexer": "ipython3",
   "version": "3.9.18"
  }
 },
 "nbformat": 4,
 "nbformat_minor": 4
}
