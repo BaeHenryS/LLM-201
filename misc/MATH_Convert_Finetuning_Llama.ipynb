{
 "cells": [
  {
   "cell_type": "code",
   "execution_count": 2,
   "metadata": {},
   "outputs": [],
   "source": [
    "import json\n",
    "\n",
    "# Read the data from the algebra.jsonl file\n",
    "with open('algebra.jsonl', 'r') as file:\n",
    "    data = [json.loads(line) for line in file]\n",
    "\n",
    "# Transform the data into the desired format\n",
    "transformed_data = []\n",
    "for item in data:\n",
    "    transformed_item = {\n",
    "        \"conversations\": [\n",
    "            {\"from\": \"system\", \"value\": \"You are an assistant skilled in solving common algebraic problems. Solve this math problem given by the user and return the answer (a number) in latex box format, e.g. $\\\\boxed$:\"},\n",
    "            {\"from\": \"human\", \"value\": item['problem']},\n",
    "            {\"from\": \"gpt\", \"value\": item['solution']}\n",
    "        ]\n",
    "    }\n",
    "    transformed_data.append(transformed_item)\n",
    "\n",
    "# Write the transformed data to the algebra_llama.jsonl file\n",
    "with open('algebra_llama.jsonl', 'w') as file:\n",
    "    for item in transformed_data:\n",
    "        file.write(json.dumps(item) + '\\n')"
   ]
  },
  {
   "cell_type": "code",
   "execution_count": null,
   "metadata": {},
   "outputs": [],
   "source": []
  }
 ],
 "metadata": {
  "kernelspec": {
   "display_name": "tensorflow",
   "language": "python",
   "name": "python3"
  },
  "language_info": {
   "codemirror_mode": {
    "name": "ipython",
    "version": 3
   },
   "file_extension": ".py",
   "mimetype": "text/x-python",
   "name": "python",
   "nbconvert_exporter": "python",
   "pygments_lexer": "ipython3",
   "version": "3.10.12"
  }
 },
 "nbformat": 4,
 "nbformat_minor": 2
}
